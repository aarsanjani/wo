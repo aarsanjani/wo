{
 "cells": [
  {
   "cell_type": "markdown",
   "metadata": {},
   "source": [
    "## First, test the ping method (GET/ping)"
   ]
  },
  {
   "cell_type": "markdown",
   "metadata": {},
   "source": [
    "This method will be used by Sagemaker for a health check of our model. It must return a code 200.\n",
    "\n",
    "You may need to upgrade the Sagemaker SDK version using the following pip command."
   ]
  },
  {
   "cell_type": "code",
   "execution_count": null,
   "metadata": {},
   "outputs": [],
   "source": [
    "!pip install --upgrade sagemaker"
   ]
  },
  {
   "cell_type": "code",
   "execution_count": null,
   "metadata": {},
   "outputs": [],
   "source": [
    "import json\n",
    "from urllib import request\n",
    "\n",
    "base_url='http://localhost:8080'"
   ]
  },
  {
   "cell_type": "code",
   "execution_count": null,
   "metadata": {},
   "outputs": [],
   "source": [
    "resp = request.urlopen(\"%s/ping\" % base_url)\n",
    "print(\"Response code: %d\" % resp.getcode() )"
   ]
  },
  {
   "cell_type": "markdown",
   "metadata": {},
   "source": [
    "## Then we can test the model's exposed API prediction capabilities (POST/invocations)"
   ]
  },
  {
   "cell_type": "markdown",
   "metadata": {},
   "source": [
    "This method will be used by Sagemaker for the predictions. Note the true labels are commented outside the feature arrays for comparison to the predictions. "
   ]
  },
  {
   "cell_type": "code",
   "execution_count": null,
   "metadata": {},
   "outputs": [],
   "source": [
    "%%time\n",
    "from sagemaker.serializers import CSVSerializer\n",
    "csv_serializer = CSVSerializer()\n",
    "payloads = [\n",
    "    [0.09178,0.0,4.05,0.0,0.51,6.416,84.1,2.6463,5.0,296.0,16.6,395.5,9.04], # 23.6\n",
    "    [0.05644,40.0,6.41,1.0,0.447,6.758,32.9,4.0776,4.0,254.0,17.6,396.9,3.53], # 32. 4\n",
    "    [0.10574,0.0,27.74,0.0,0.609,5.983,98.8,1.8681,4.0,711.0,20.1,390.11,18.07] # 13.6\n",
    "]\n",
    "\n",
    "def predict(payload):\n",
    "    headers = {\n",
    "        'Content-type': 'text/csv',\n",
    "        'Accept': 'text/csv'\n",
    "    }\n",
    "    \n",
    "    req = request.Request(\"%s/invocations\" % base_url, data=csv_serializer.serialize(payload).encode('utf-8'), headers=headers)\n",
    "    resp = request.urlopen(req)\n",
    "    print(\"Response code: %d, Prediction: %s\\n\" % (resp.getcode(), resp.read()))\n",
    "    for i in resp.headers:\n",
    "        print(i, resp.headers[i])\n",
    "\n",
    "for p in payloads:\n",
    "    predict(p)"
   ]
  },
  {
   "cell_type": "markdown",
   "metadata": {},
   "source": [
    "## Now you can go back to the notebook titled \"BYOC-example\", click the \"stop\" button to stop the local model from being served, and continue to the next step."
   ]
  }
 ],
 "metadata": {
  "kernelspec": {
   "display_name": "conda_python3",
   "language": "python",
   "name": "conda_python3"
  },
  "language_info": {
   "codemirror_mode": {
    "name": "ipython",
    "version": 3
   },
   "file_extension": ".py",
   "mimetype": "text/x-python",
   "name": "python",
   "nbconvert_exporter": "python",
   "pygments_lexer": "ipython3",
   "version": "3.6.10"
  }
 },
 "nbformat": 4,
 "nbformat_minor": 4
}
